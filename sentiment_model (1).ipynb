{
  "nbformat": 4,
  "nbformat_minor": 0,
  "metadata": {
    "colab": {
      "provenance": []
    },
    "kernelspec": {
      "name": "python3",
      "display_name": "Python 3"
    },
    "language_info": {
      "name": "python"
    }
  },
  "cells": [
    {
      "cell_type": "markdown",
      "source": [
        "### This notebook performs sentiment analysis on a dataset of comments using a pre-trained transformer model.\n"
      ],
      "metadata": {
        "id": "uo-_DBWSjIf4"
      }
    },
    {
      "cell_type": "code",
      "source": [
        "# Import necessary libraries\n",
        "import pandas as pd\n",
        "from tqdm import tqdm\n",
        "from transformers import AutoTokenizer, AutoModelForSequenceClassification\n",
        "import torch\n",
        "import numpy as np\n",
        "from torch.utils.data import DataLoader, TensorDataset"
      ],
      "metadata": {
        "id": "mB9fDqP_jD9z"
      },
      "execution_count": 1,
      "outputs": []
    },
    {
      "cell_type": "code",
      "source": [
        "# Load model and tokenizer\n",
        "MODEL = \"cardiffnlp/twitter-roberta-base-sentiment\"\n",
        "tokenizer = AutoTokenizer.from_pretrained(MODEL)\n",
        "model = AutoModelForSequenceClassification.from_pretrained(MODEL)"
      ],
      "metadata": {
        "id": "5i3MaDJEjM57"
      },
      "execution_count": null,
      "outputs": []
    },
    {
      "cell_type": "code",
      "source": [
        "# Sentiment labels\n",
        "LABELS = ['negative', 'neutral', 'positive']"
      ],
      "metadata": {
        "id": "YKkvHOr5jP9O"
      },
      "execution_count": null,
      "outputs": []
    },
    {
      "cell_type": "code",
      "source": [
        "# Check for GPU availability and move model to appropriate device\n",
        "device = torch.device(\"cuda\" if torch.cuda.is_available() else \"cpu\")\n",
        "model = model.to(device)"
      ],
      "metadata": {
        "id": "lfDGuJVvjXKm"
      },
      "execution_count": null,
      "outputs": []
    },
    {
      "cell_type": "markdown",
      "source": [
        "    Perform sentiment analysis on a batch of input_ids and attention_mask using the pre-trained model.\n",
        "    Returns sentiment labels and corresponding softmax scores."
      ],
      "metadata": {
        "id": "eHnm5afhjbD4"
      }
    },
    {
      "cell_type": "code",
      "source": [
        "def get_batch_sentiments(input_ids, attention_mask):\n",
        "    # Inference with no gradient tracking\n",
        "    with torch.no_grad():\n",
        "        outputs = model(input_ids=input_ids, attention_mask=attention_mask)\n",
        "\n",
        "    # Apply softmax to get class probabilities (scores)\n",
        "    logits = outputs[0].cpu().numpy()\n",
        "    softmax_scores = np.exp(logits) / np.sum(np.exp(logits), axis=1, keepdims=True)\n",
        "\n",
        "    # Convert softmax scores to sentiment labels\n",
        "    sentiments = [LABELS[np.argmax(score)] for score in softmax_scores]\n",
        "\n",
        "    return sentiments, softmax_scores"
      ],
      "metadata": {
        "id": "CRQ7BMtnjav_"
      },
      "execution_count": null,
      "outputs": []
    },
    {
      "cell_type": "code",
      "source": [
        "# Load the labeled dataset\n",
        "data_file_path = \"/content/drive/MyDrive/labeled_k_comments.csv\"\n",
        "k_df_labeled = pd.read_csv(data_file_path)"
      ],
      "metadata": {
        "id": "YyiqI8L1jgtq"
      },
      "execution_count": null,
      "outputs": []
    },
    {
      "cell_type": "code",
      "source": [
        "# Prepare data: Ensure 'Comments' column is in string format\n",
        "comments = k_df_labeled['Comments'].astype(str).tolist()"
      ],
      "metadata": {
        "id": "Gh7Sn6vxjl9e"
      },
      "execution_count": null,
      "outputs": []
    },
    {
      "cell_type": "code",
      "source": [
        "# Tokenize the entire dataset in one step\n",
        "inputs = tokenizer(comments, return_tensors=\"pt\", padding=True, truncation=True, max_length=512)"
      ],
      "metadata": {
        "id": "g1qylHPtjmZS"
      },
      "execution_count": null,
      "outputs": []
    },
    {
      "cell_type": "code",
      "source": [
        "# Create a DataLoader for batch processing\n",
        "batch_size = 16  # Adjusted for memory limits\n",
        "dataset = TensorDataset(inputs['input_ids'], inputs['attention_mask'])\n",
        "dataloader = DataLoader(dataset, batch_size=batch_size, shuffle=False)"
      ],
      "metadata": {
        "id": "Eig1J5RsjpbR"
      },
      "execution_count": null,
      "outputs": []
    },
    {
      "cell_type": "code",
      "source": [
        "# Initialize lists to store results\n",
        "all_sentiments = []\n",
        "all_scores = []"
      ],
      "metadata": {
        "id": "kXI250TIjsF1"
      },
      "execution_count": null,
      "outputs": []
    },
    {
      "cell_type": "code",
      "source": [
        "# Process the dataset in batches\n",
        "model.eval()\n",
        "for batch in tqdm(dataloader, total=len(dataloader)):\n",
        "    input_ids, attention_mask = batch  # Extract input data from batch\n",
        "    input_ids, attention_mask = input_ids.to(device), attention_mask.to(device)\n",
        "\n",
        "    # Get sentiment predictions for the current batch\n",
        "    sentiments, scores = get_batch_sentiments(input_ids, attention_mask)\n",
        "\n",
        "    # Store the results\n",
        "    all_sentiments.extend(sentiments)\n",
        "    all_scores.extend(scores)\n",
        "\n",
        "    # Free up memory (if using GPU)\n",
        "    torch.cuda.empty_cache()"
      ],
      "metadata": {
        "id": "OO-qmF_njvcC"
      },
      "execution_count": null,
      "outputs": []
    },
    {
      "cell_type": "code",
      "source": [
        "# Add the sentiment results and scores to the DataFrame\n",
        "k_df_labeled['Sentiment_Result'] = all_sentiments\n",
        "k_df_labeled['Sentiment_Scores'] = all_scores"
      ],
      "metadata": {
        "id": "RBN7fVIhj0M4"
      },
      "execution_count": null,
      "outputs": []
    },
    {
      "cell_type": "code",
      "source": [
        "# Save the results to a new CSV file\n",
        "output_file_path = \"/content/drive/MyDrive/kendrick_comment_data_with_sentiment.csv\"\n",
        "k_df_labeled.to_csv(output_file_path, index=False)"
      ],
      "metadata": {
        "id": "MekYdBD8j3Sx"
      },
      "execution_count": null,
      "outputs": []
    },
    {
      "cell_type": "code",
      "source": [
        "print(f\"Sentiment analysis complete. Results saved to: {output_file_path}\")"
      ],
      "metadata": {
        "id": "nZzH-986j8Gi"
      },
      "execution_count": null,
      "outputs": []
    }
  ]
}