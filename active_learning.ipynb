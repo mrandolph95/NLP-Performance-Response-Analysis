{
  "nbformat": 4,
  "nbformat_minor": 0,
  "metadata": {
    "colab": {
      "provenance": [],
      "authorship_tag": "ABX9TyOpUmtSQclK6UD50WAbkHlQ"
    },
    "kernelspec": {
      "name": "python3",
      "display_name": "Python 3"
    },
    "language_info": {
      "name": "python"
    }
  },
  "cells": [
    {
      "cell_type": "code",
      "source": [
        "from google.colab import drive\n",
        "import pandas as pd\n",
        "from sklearn.model_selection import train_test_split\n",
        "from sklearn.feature_extraction.text import TfidfVectorizer\n",
        "from sklearn.linear_model import LogisticRegression\n",
        "from sklearn.preprocessing import LabelEncoder\n",
        "from sklearn.pipeline import Pipeline\n",
        "import matplotlib.pyplot as plt\n",
        "import seaborn as sns\n",
        "from sklearn.manifold import TSNE"
      ],
      "metadata": {
        "id": "VM7e6iaYkuIg"
      },
      "execution_count": null,
      "outputs": []
    },
    {
      "cell_type": "code",
      "source": [
        "# Mount Google Drive\n",
        "drive.mount('/content/drive')"
      ],
      "metadata": {
        "id": "vYuuJBc5kvgw"
      },
      "execution_count": null,
      "outputs": []
    },
    {
      "cell_type": "code",
      "source": [
        "# Load data\n",
        "k_labeled_df = pd.read_csv('/content/drive/MyDrive/labeled_k_comments.csv')\n",
        "k_unlabeled_df = pd.read_csv('/content/drive/MyDrive/kendrick_comment_data.csv')"
      ],
      "metadata": {
        "id": "Hqsf4jSik0bP"
      },
      "execution_count": null,
      "outputs": []
    },
    {
      "cell_type": "code",
      "source": [
        "# Rename columns for consistency\n",
        "k_labeled_df = k_labeled_df.rename(columns={'Comments': 'comment'})"
      ],
      "metadata": {
        "id": "E6fMzV-Tk1_q"
      },
      "execution_count": null,
      "outputs": []
    },
    {
      "cell_type": "code",
      "source": [
        "# Merge labeled and unlabeled dataframes\n",
        "merged_df = k_labeled_df.merge(k_unlabeled_df, on='comment', how='right')"
      ],
      "metadata": {
        "id": "Bt8E_Kyak4rM"
      },
      "execution_count": null,
      "outputs": []
    },
    {
      "cell_type": "code",
      "source": [
        "# Split into labeled and unlabeled datasets\n",
        "labeled_df = merged_df[merged_df['label'].notna()].drop_duplicates(subset='comment', keep='first')\n",
        "unlabeled_df = merged_df[merged_df['label'].isna()].drop_duplicates(subset='comment', keep='first')"
      ],
      "metadata": {
        "id": "sDgRWQbHk7MG"
      },
      "execution_count": null,
      "outputs": []
    },
    {
      "cell_type": "code",
      "source": [
        "# Ensure column order consistency\n",
        "column_order = ['video_id', 'comment_id', 'comment', 'like_count', 'reply_count', 'published_at', 'label', 'confidence score']\n",
        "merged_df = merged_df[column_order]\n",
        "unlabeled_df = unlabeled_df[column_order]\n",
        "labeled_df = labeled_df[column_order]"
      ],
      "metadata": {
        "id": "RH9EsS2Bk-Bp"
      },
      "execution_count": null,
      "outputs": []
    },
    {
      "cell_type": "code",
      "source": [
        "# Save unlabeled data for future labeling\n",
        "unlabeled_df.to_csv('/content/drive/MyDrive/unlabeled_kendrick_comments.csv', index=False)"
      ],
      "metadata": {
        "id": "22ull8RplAY9"
      },
      "execution_count": null,
      "outputs": []
    },
    {
      "cell_type": "code",
      "source": [
        "# Function to train the model\n",
        "def train_model(df):\n",
        "    label_encoder = LabelEncoder()\n",
        "    df['encoded_label'] = label_encoder.fit_transform(df['label'])\n",
        "\n",
        "    X_train = df['comment']\n",
        "    y_train = df['encoded_label']\n",
        "\n",
        "    pipeline = Pipeline([\n",
        "        ('tfidf', TfidfVectorizer(max_features=5000, ngram_range=(1, 2))),\n",
        "        ('clf', LogisticRegression(max_iter=1000, class_weight='balanced'))\n",
        "    ])\n",
        "\n",
        "    pipeline.fit(X_train, y_train)\n",
        "    return pipeline, label_encoder"
      ],
      "metadata": {
        "id": "C3hd9HEXlCxf"
      },
      "execution_count": null,
      "outputs": []
    },
    {
      "cell_type": "code",
      "source": [
        "# Function to predict and filter low-confidence predictions\n",
        "def predict_and_filter(df, pipeline, label_encoder):\n",
        "    df = df.dropna(subset=['comment'])\n",
        "    pred_probs = pipeline.predict_proba(df['comment'])\n",
        "\n",
        "    max_confidence = pred_probs.max(axis=1)\n",
        "    pred_labels = pred_probs.argmax(axis=1)\n",
        "\n",
        "    df['predicted_label'] = label_encoder.inverse_transform(pred_labels)\n",
        "    df['predicted_confidence'] = max_confidence\n",
        "\n",
        "    return df"
      ],
      "metadata": {
        "id": "4zG5IF_qlFZC"
      },
      "execution_count": null,
      "outputs": []
    },
    {
      "cell_type": "code",
      "source": [
        "# Train the model with labeled data\n",
        "pipeline, label_encoder = train_model(labeled_df)"
      ],
      "metadata": {
        "id": "tFDzXbe_lIb3"
      },
      "execution_count": null,
      "outputs": []
    },
    {
      "cell_type": "code",
      "source": [
        "# Predict on unlabeled data\n",
        "unlabeled_df = predict_and_filter(unlabeled_df, pipeline, label_encoder)"
      ],
      "metadata": {
        "id": "m2z5p-x5lLx2"
      },
      "execution_count": null,
      "outputs": []
    },
    {
      "cell_type": "code",
      "source": [
        "# Get low-confidence predictions\n",
        "low_conf_df = unlabeled_df[unlabeled_df['predicted_confidence'] < 0.7].sort_values(by='predicted_confidence')"
      ],
      "metadata": {
        "id": "R2FHWIt_lP14"
      },
      "execution_count": null,
      "outputs": []
    },
    {
      "cell_type": "code",
      "source": [
        "# Save the low-confidence predictions for manual labeling\n",
        "low_conf_df[['comment', 'predicted_label', 'predicted_confidence']].head(200).to_csv(\n",
        "    \"/content/drive/MyDrive/k_to_label_batch.csv\", index=False\n",
        ")"
      ],
      "metadata": {
        "id": "M7v4uvGNlQXX"
      },
      "execution_count": null,
      "outputs": []
    },
    {
      "cell_type": "markdown",
      "source": [
        "#### Round 2 Training"
      ],
      "metadata": {
        "id": "D7ZZMbZmk9TQ"
      }
    },
    {
      "cell_type": "code",
      "source": [
        "# Load new labeled batch\n",
        "labeled_batch = pd.read_csv(\"/content/drive/MyDrive/new_labeled_batch.csv\")"
      ],
      "metadata": {
        "id": "cDaTHDu0lYSw"
      },
      "execution_count": null,
      "outputs": []
    },
    {
      "cell_type": "code",
      "source": [
        "# Add to labeled data and remove labeled rows from unlabeled data\n",
        "labeled_df = pd.concat([labeled_df, labeled_batch], ignore_index=True)\n",
        "unlabeled_df = unlabeled_df[~unlabeled_df['comment'].isin(labeled_batch['comment'])]"
      ],
      "metadata": {
        "id": "gHN62BUjld1g"
      },
      "execution_count": null,
      "outputs": []
    },
    {
      "cell_type": "code",
      "source": [
        "# Re-encode labels and retrain\n",
        "labeled_df['encoded_label'] = label_encoder.fit_transform(labeled_df['label'])\n",
        "pipeline.fit(labeled_df['comment'], labeled_df['encoded_label'])"
      ],
      "metadata": {
        "id": "u3IfnvPlliqO"
      },
      "execution_count": null,
      "outputs": []
    },
    {
      "cell_type": "code",
      "source": [
        "# Predict and filter new unlabeled data\n",
        "unlabeled_df = predict_and_filter(unlabeled_df, pipeline, label_encoder)"
      ],
      "metadata": {
        "id": "iWAv3qKzlpUO"
      },
      "execution_count": null,
      "outputs": []
    },
    {
      "cell_type": "markdown",
      "source": [
        "#### Visualizations"
      ],
      "metadata": {
        "id": "qIdA82E4lqB9"
      }
    },
    {
      "cell_type": "code",
      "source": [
        "# Plot predicted sentiment distribution\n",
        "unlabeled_df['predicted_label'].value_counts().plot(\n",
        "    kind='bar', title='Predicted Sentiment Distribution', xlabel='Sentiment', ylabel='Count', color='skyblue', edgecolor='black'\n",
        ")\n",
        "plt.grid(axis='y')\n",
        "plt.show()"
      ],
      "metadata": {
        "id": "rRhTZWa0lvFU"
      },
      "execution_count": null,
      "outputs": []
    },
    {
      "cell_type": "code",
      "source": [
        "# Confidence by predicted sentiment\n",
        "plt.figure(figsize=(10, 6))\n",
        "sns.boxplot(x='predicted_label', y='predicted_confidence', data=unlabeled_df)\n",
        "plt.title('Confidence by Predicted Sentiment')\n",
        "plt.xlabel('Predicted Sentiment')\n",
        "plt.ylabel('Confidence Score')\n",
        "plt.grid(True)\n",
        "plt.show()"
      ],
      "metadata": {
        "id": "Gvz69KlvlvrW"
      },
      "execution_count": null,
      "outputs": []
    },
    {
      "cell_type": "code",
      "source": [
        "# t-SNE visualization\n",
        "tfidf = pipeline.named_steps['tfidf']\n",
        "X_features = tfidf.transform(unlabeled_df['comment'])\n",
        "tsne = TSNE(n_components=2, random_state=42, perplexity=30)\n",
        "X_embedded = tsne.fit_transform(X_features.toarray())\n",
        "\n",
        "unlabeled_df['tsne_1'] = X_embedded[:, 0]\n",
        "unlabeled_df['tsne_2'] = X_embedded[:, 1]\n",
        "\n",
        "plt.figure(figsize=(10, 6))\n",
        "sns.scatterplot(data=unlabeled_df, x='tsne_1', y='tsne_2', hue='predicted_label', alpha=0.7, palette='Set2')\n",
        "plt.title('t-SNE Visualization of Predicted Sentiments')\n",
        "plt.xlabel('Dimension 1')\n",
        "plt.ylabel('Dimension 2')\n",
        "plt.legend(title='Predicted Sentiment')\n",
        "plt.grid(True)\n",
        "plt.show()"
      ],
      "metadata": {
        "id": "WXxcRicYly70"
      },
      "execution_count": null,
      "outputs": []
    },
    {
      "cell_type": "code",
      "source": [
        "# Save final labeled data\n",
        "labeled_df.to_csv('/content/drive/MyDrive/round2_labeled_comments.csv', index=False)"
      ],
      "metadata": {
        "id": "qZdNuRlwl4LJ"
      },
      "execution_count": null,
      "outputs": []
    },
    {
      "cell_type": "code",
      "source": [
        "# Export low-confidence predictions for the second round of manual labeling\n",
        "low_conf_df_2 = unlabeled_df[unlabeled_df['predicted_confidence'] < 0.7].sort_values(by='predicted_confidence')\n",
        "low_conf_df_2[['comment', 'predicted_label', 'predicted_confidence']].head(200).to_csv(\n",
        "    \"/content/drive/MyDrive/round2_to_label_batch.csv\", index=False\n",
        ")"
      ],
      "metadata": {
        "id": "GLfZgUmil8Pj"
      },
      "execution_count": null,
      "outputs": []
    }
  ]
}